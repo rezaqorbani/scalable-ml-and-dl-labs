{
 "cells": [
  {
   "cell_type": "markdown",
   "metadata": {},
   "source": [
    "# Wine quality prediction"
   ]
  },
  {
   "cell_type": "markdown",
   "metadata": {},
   "source": [
    "# Imports"
   ]
  },
  {
   "cell_type": "code",
   "execution_count": null,
   "id": "5e332935",
   "metadata": {},
   "outputs": [],
   "source": [
    "import seaborn as sns\n",
    "sns.set_palette('husl')\n",
    "import matplotlib.pyplot as plt\n",
    "%matplotlib inline\n",
    "import logging\n",
    "logging.basicConfig(level='INFO')\n",
    "\n",
    "mlogger = logging.getLogger('matplotlib')\n",
    "mlogger.setLevel(logging.WARNING)"
   ]
  },
  {
   "cell_type": "code",
   "execution_count": null,
   "id": "b720e1e6",
   "metadata": {},
   "outputs": [],
   "source": [
    "import hopsworks\n",
    "import pandas as pd\n",
    "import missingno as msno"
   ]
  },
  {
   "cell_type": "markdown",
   "metadata": {},
   "source": [
    "## Project setup"
   ]
  },
  {
   "cell_type": "code",
   "execution_count": null,
   "id": "7f74f260",
   "metadata": {},
   "outputs": [],
   "source": [
    "project = hopsworks.login()\n",
    "fs = project.get_feature_store()"
   ]
  },
  {
   "cell_type": "markdown",
   "metadata": {},
   "source": [
    "## Load data"
   ]
  },
  {
   "cell_type": "code",
   "execution_count": null,
   "id": "d6e407db",
   "metadata": {},
   "outputs": [],
   "source": [
    "# fetch dataset \n",
    "dataset_path = '../dataset/wine/wine.csv'\n",
    "with open(dataset_path, 'r') as f:\n",
    "    wine_df = pd.read_csv(f)\n",
    "wine_df.columns = wine_df.columns.str.replace(' ', '_')\n",
    "wine_df.head()"
   ]
  },
  {
   "cell_type": "code",
   "execution_count": null,
   "id": "67922f4f",
   "metadata": {},
   "outputs": [],
   "source": [
    "wine_df.info()\n"
   ]
  },
  {
   "cell_type": "code",
   "execution_count": null,
   "metadata": {},
   "outputs": [],
   "source": [
    "wine_df['type'] = wine_df['type'].map({'red': 0, 'white': 1})"
   ]
  },
  {
   "cell_type": "code",
   "execution_count": null,
   "id": "28d13684",
   "metadata": {},
   "outputs": [],
   "source": [
    "wine_df.describe()\n"
   ]
  },
  {
   "cell_type": "code",
   "execution_count": null,
   "metadata": {},
   "outputs": [],
   "source": [
    "# Drop the type column as it is not relevant for the analysis\n",
    "#wine_df = wine_df.drop([ 'type'], axis=1)\n",
    "wine_df.info()\n"
   ]
  },
  {
   "cell_type": "code",
   "execution_count": null,
   "metadata": {},
   "outputs": [],
   "source": [
    "# change the quality column to binary values 0 and 1 every value above 5 is good (1) and every value below 5 is bad (0)\n",
    "wine_df['quality'] = wine_df['quality'].apply(lambda x: 1 if x > 5 else 0)\n"
   ]
  },
  {
   "cell_type": "code",
   "execution_count": null,
   "metadata": {},
   "outputs": [],
   "source": [
    "# Count occurrences of 0s and 1s in the quality\n",
    "counts = wine_df['quality'].value_counts()\n",
    "\n",
    "# Print the counts\n",
    "print(counts)\n"
   ]
  },
  {
   "cell_type": "markdown",
   "id": "a5fb8439",
   "metadata": {},
   "source": [
    "## Exploratory Data Analysis (EDA)\n"
   ]
  },
  {
   "cell_type": "markdown",
   "metadata": {},
   "source": [
    "### Missing data"
   ]
  },
  {
   "cell_type": "code",
   "execution_count": null,
   "metadata": {},
   "outputs": [],
   "source": [
    "msno.matrix(wine_df)"
   ]
  },
  {
   "cell_type": "code",
   "execution_count": null,
   "metadata": {},
   "outputs": [],
   "source": [
    "# get each of the missing vlaue indexes for each column\n",
    "missing_value_indexes = {}\n",
    "for col in wine_df.columns:\n",
    "    missing_value_indexes[col] = wine_df[wine_df[col].isnull()].index.tolist()\n",
    "print('indexes of missing values:')\n",
    "missing_value_indexes"
   ]
  },
  {
   "cell_type": "code",
   "execution_count": null,
   "metadata": {},
   "outputs": [],
   "source": [
    "import numpy as np\n",
    "\n",
    "# Replace missing values with a random value from a normal distribution with mean and std\n",
    "# Can also use mean for the imputation seems more common when searching online\n",
    "for col in wine_df.columns:\n",
    "    mean_val = wine_df[col].mean()\n",
    "    std_val = wine_df[col].std()\n",
    "    missing_indexes = wine_df[wine_df[col].isnull()].index.tolist()\n",
    "    for index in missing_indexes:\n",
    "        wine_df.loc[index, col] = np.random.normal(mean_val, std_val)"
   ]
  },
  {
   "cell_type": "code",
   "execution_count": null,
   "metadata": {},
   "outputs": [],
   "source": [
    "# get each of the missing vlaue indexes for each column\n",
    "missing_value_indexes = {}\n",
    "for col in wine_df.columns:\n",
    "    missing_value_indexes[col] = wine_df[wine_df[col].isnull()].index.tolist()\n",
    "print('indexes of missing values:')\n",
    "missing_value_indexes"
   ]
  },
  {
   "cell_type": "markdown",
   "metadata": {},
   "source": [
    "### Univariate analysis"
   ]
  },
  {
   "cell_type": "code",
   "execution_count": null,
   "metadata": {},
   "outputs": [],
   "source": [
    "wine_df.hist(figsize=(15, 15), bins=50)"
   ]
  },
  {
   "cell_type": "code",
   "execution_count": null,
   "metadata": {},
   "outputs": [],
   "source": [
    "# violin plots using seaborn for the range of values for each feature in seperate plots\n",
    "fig, axes = plt.subplots(7, 2, figsize=(15, 15))\n",
    "\n",
    "axes = axes.flatten()\n",
    "for i, col in enumerate(wine_df.columns):\n",
    "    sns.violinplot(x=col, data=wine_df, ax=axes[i])\n",
    "\n",
    "plt.tight_layout()\n",
    "plt.show()\n"
   ]
  },
  {
   "cell_type": "markdown",
   "metadata": {},
   "source": [
    "### Bivariate analysis"
   ]
  },
  {
   "cell_type": "code",
   "execution_count": null,
   "metadata": {},
   "outputs": [],
   "source": [
    "fig, axs = plt.subplots(4, 3, figsize=(15, 15))\n",
    "\n",
    "feature_ranges = {}\n",
    "for i, col in enumerate(wine_df.columns):\n",
    "    \n",
    "    if col != 'quality':\n",
    "        print(i)\n",
    "        for quality in wine_df['quality'].unique():\n",
    "            feature_ranges[col + '_' + str(quality)] = [wine_df[wine_df['quality'] == quality][col].min(), wine_df[wine_df['quality'] == quality][col].max()]\n",
    "            \n",
    "        sns.barplot(x='quality', y=col, data=wine_df, ax=axs[i//3, i%3])\n",
    "# remove the empty plot\n",
    "print(feature_ranges)\n",
    "#fig.delaxes(axs[3, 2])\n",
    "plt.tight_layout()\n",
    "plt.show()"
   ]
  },
  {
   "cell_type": "markdown",
   "metadata": {},
   "source": [
    "### Multivariate analysis"
   ]
  },
  {
   "cell_type": "code",
   "execution_count": null,
   "metadata": {},
   "outputs": [],
   "source": [
    "correlation = wine_df.corr()\n",
    "sns.heatmap(correlation, annot=True, cmap='BrBG').figure.set_size_inches(14, 12)\n"
   ]
  },
  {
   "cell_type": "code",
   "execution_count": null,
   "metadata": {},
   "outputs": [],
   "source": [
    "g = sns.pairplot(wine_df, hue='quality', markers='+')\n",
    "plt.show()"
   ]
  },
  {
   "cell_type": "markdown",
   "metadata": {},
   "source": [
    "### Drop Features with lower than 0.1 correlation to quality according to Correlation Matrix\n"
   ]
  },
  {
   "cell_type": "code",
   "execution_count": null,
   "metadata": {},
   "outputs": [],
   "source": [
    "# List of columns to be dropped\n",
    "columns_to_drop = ['fixed_acidity', 'citric_acid', 'residual_sugar', 'total_sulfur_dioxide','free_sulfur_dioxide','pH','sulphates']\n",
    "\n",
    "# Dropping columns from wine_df\n",
    "wine_df.drop(columns=columns_to_drop, inplace=True)"
   ]
  },
  {
   "cell_type": "code",
   "execution_count": null,
   "metadata": {},
   "outputs": [],
   "source": [
    "wine_df"
   ]
  },
  {
   "cell_type": "markdown",
   "id": "6e6adb93",
   "metadata": {},
   "source": [
    "### Insert our Wine DataFrame into a FeatureGroup\n"
   ]
  },
  {
   "cell_type": "code",
   "execution_count": null,
   "id": "6df9d07f",
   "metadata": {},
   "outputs": [],
   "source": [
    "wine_fg = fs.get_or_create_feature_group(\n",
    "     name=\"wine\",\n",
    "     version=1,\n",
    "     primary_key=[\"type\",\"volatile_acidity\",\"chlorides\",\"density\",\"alcohol\"], \n",
    "     description=\"wine dataset\")\n",
    "wine_fg.insert(wine_df)"
   ]
  },
  {
   "cell_type": "markdown",
   "id": "e0520ac0",
   "metadata": {},
   "source": [
    "### Data Validation\n",
    "If you want, you can enable data validation for your feature group.\n",
    "The code below will prevent iris flower data from being written your your feature group if you write values outside the expected ranges."
   ]
  },
  {
   "cell_type": "code",
   "execution_count": null,
   "id": "026c8802",
   "metadata": {},
   "outputs": [],
   "source": [
    "# from great_expectations.core import ExpectationSuite, ExpectationConfiguration\n",
    "\n",
    "# def expect(suite, column, min_val, max_val):\n",
    "#     suite.add_expectation(\n",
    "#     ExpectationConfiguration(\n",
    "#         expectation_type=\"expect_column_values_to_be_between\",\n",
    "#         kwargs={\n",
    "#             \"column\":column, \n",
    "#             \"min_value\":min_val,\n",
    "#             \"max_value\":max_val,\n",
    "#         }\n",
    "#     )\n",
    "# )"
   ]
  },
  {
   "cell_type": "code",
   "execution_count": null,
   "id": "9e345afd",
   "metadata": {},
   "outputs": [],
   "source": [
    "# suite = ExpectationSuite(expectation_suite_name=\"iris_dimensions\")\n",
    "\n",
    "# expect(suite, \"sepal_length\", 4.5, 8.0)\n",
    "# expect(suite, \"sepal_width\", 2.1, 4.5)\n",
    "# expect(suite, \"petal_length\", 1.2, 7)\n",
    "# expect(suite, \"petal_width\", 0.2, 2.5)\n",
    "# iris_fg.save_expectation_suite(expectation_suite=suite, validation_ingestion_policy=\"STRICT\")    "
   ]
  }
 ],
 "metadata": {
  "kernelspec": {
   "display_name": "Python 3 (ipykernel)",
   "language": "python",
   "name": "python3"
  },
  "language_info": {
   "codemirror_mode": {
    "name": "ipython",
    "version": 3
   },
   "file_extension": ".py",
   "mimetype": "text/x-python",
   "name": "python",
   "nbconvert_exporter": "python",
   "pygments_lexer": "ipython3",
   "version": "3.10.12"
  }
 },
 "nbformat": 4,
 "nbformat_minor": 5
}
