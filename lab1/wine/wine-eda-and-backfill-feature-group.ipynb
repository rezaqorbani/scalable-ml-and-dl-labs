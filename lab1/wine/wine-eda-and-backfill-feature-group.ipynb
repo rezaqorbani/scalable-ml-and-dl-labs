{
 "cells": [
  {
   "cell_type": "markdown",
   "metadata": {},
   "source": [
    "# Wine quality prediction"
   ]
  },
  {
   "cell_type": "markdown",
   "metadata": {},
   "source": [
    "# Imports"
   ]
  },
  {
   "cell_type": "code",
   "execution_count": null,
   "id": "5e332935",
   "metadata": {},
   "outputs": [],
   "source": [
    "import hopsworks\n",
    "import pandas as pd\n",
    "import missingno as msno\n",
    "import numpy as np\n",
    "from imblearn.over_sampling import SMOTE\n",
    "\n",
    "from sklearn.model_selection import train_test_split\n",
    "from sklearn.svm import SVC\n",
    "from sklearn.ensemble import RandomForestClassifier\n",
    "from sklearn.metrics import classification_report, accuracy_score\n",
    "import seaborn as sns\n",
    "sns.set_palette('husl')\n",
    "import matplotlib.pyplot as plt\n",
    "%matplotlib inline\n",
    "\n",
    "import logging\n",
    "logging.basicConfig(level='INFO')\n",
    "\n",
    "mlogger = logging.getLogger('matplotlib')\n",
    "mlogger.setLevel(logging.WARNING)"
   ]
  },
  {
   "cell_type": "markdown",
   "metadata": {},
   "source": [
    "## Project setup"
   ]
  },
  {
   "cell_type": "code",
   "execution_count": null,
   "id": "7f74f260",
   "metadata": {},
   "outputs": [],
   "source": [
    "project = hopsworks.login()\n",
    "fs = project.get_feature_store()"
   ]
  },
  {
   "cell_type": "markdown",
   "metadata": {},
   "source": [
    "## Load data"
   ]
  },
  {
   "cell_type": "code",
   "execution_count": null,
   "id": "d6e407db",
   "metadata": {},
   "outputs": [],
   "source": [
    "# fetch dataset \n",
    "dataset_path = '../dataset/wine/wine.csv'\n",
    "with open(dataset_path, 'r') as f:\n",
    "    wine_df = pd.read_csv(f)\n",
    "wine_df.columns = wine_df.columns.str.replace(' ', '_')\n",
    "wine_df.head()"
   ]
  },
  {
   "cell_type": "code",
   "execution_count": null,
   "id": "67922f4f",
   "metadata": {},
   "outputs": [],
   "source": [
    "wine_df.info()\n"
   ]
  },
  {
   "cell_type": "code",
   "execution_count": null,
   "id": "28d13684",
   "metadata": {},
   "outputs": [],
   "source": [
    "wine_df.describe()\n"
   ]
  },
  {
   "cell_type": "markdown",
   "metadata": {},
   "source": [
    "## Preprocessing"
   ]
  },
  {
   "cell_type": "markdown",
   "metadata": {},
   "source": [
    "### Encode categorical features"
   ]
  },
  {
   "cell_type": "code",
   "execution_count": null,
   "metadata": {},
   "outputs": [],
   "source": [
    "# change the type column to binary values 0 and 1 red (0) and white (1)\n",
    "wine_df['type'] = wine_df['type'].map({'red': 0, 'white': 1})"
   ]
  },
  {
   "cell_type": "markdown",
   "metadata": {},
   "source": [
    "### Fill missing values"
   ]
  },
  {
   "cell_type": "code",
   "execution_count": null,
   "metadata": {},
   "outputs": [],
   "source": [
    "# get each of the missing vlaue indexes for each column\n",
    "missing_value_indexes = {}\n",
    "for col in wine_df.columns:\n",
    "    missing_value_indexes[col] = wine_df[wine_df[col].isnull()].index.tolist()\n",
    "print('indexes of missing values:')\n",
    "missing_value_indexes"
   ]
  },
  {
   "cell_type": "markdown",
   "metadata": {},
   "source": [
    "Replace missing values with a random value from a normal distribution with mean and std of the feature since those features are (more or less) normally distributed according to the histogram plots below"
   ]
  },
  {
   "cell_type": "code",
   "execution_count": null,
   "metadata": {},
   "outputs": [],
   "source": [
    "# Replace missing values with a random value from a normal distribution with mean and std of the feature\n",
    "# Can also use mean for the imputation seems more common when searching online\n",
    "for col in wine_df.columns:\n",
    "    mean_val = wine_df[col].mean()\n",
    "    std_val = wine_df[col].std()\n",
    "    missing_indexes = wine_df[wine_df[col].isnull()].index.tolist()\n",
    "    for index in missing_indexes:\n",
    "        wine_df.loc[index, col] = np.random.normal(mean_val, std_val)"
   ]
  },
  {
   "cell_type": "code",
   "execution_count": null,
   "metadata": {},
   "outputs": [],
   "source": [
    "# get each of the missing vlaue indexes for each column\n",
    "missing_value_indexes = {}\n",
    "for col in wine_df.columns:\n",
    "    missing_value_indexes[col] = wine_df[wine_df[col].isnull()].index.tolist()\n",
    "print('indexes of missing values:')\n",
    "missing_value_indexes"
   ]
  },
  {
   "cell_type": "markdown",
   "metadata": {},
   "source": [
    "### Balance the data"
   ]
  },
  {
   "cell_type": "code",
   "execution_count": null,
   "metadata": {},
   "outputs": [],
   "source": [
    "target = 'quality'\n",
    "qualities = wine_df[target]\n",
    "original_shape = wine_df.shape\n",
    "\n",
    "\n",
    "print(f'original dataset shape {original_shape}')\n",
    "print('-------------------')\n",
    "print(f'Original dataset distribution {qualities.value_counts()}')\n",
    "\n"
   ]
  },
  {
   "cell_type": "code",
   "execution_count": null,
   "metadata": {},
   "outputs": [],
   "source": [
    "wine_df['quality'] = wine_df['quality'].apply(lambda x: 1 if x > 5 else 0)"
   ]
  },
  {
   "cell_type": "markdown",
   "metadata": {},
   "source": [
    "### Remove duplicate rows"
   ]
  },
  {
   "cell_type": "code",
   "execution_count": null,
   "metadata": {},
   "outputs": [],
   "source": [
    "# remove duplicates\n",
    "count_rows_before = wine_df.shape[0]\n",
    "wine_df = wine_df.drop_duplicates()\n",
    "count_rows_after = wine_df.shape[0]\n",
    "\n",
    "print(f'Number of rows before removing duplicates {count_rows_before}')\n",
    "print(f'Number of rows after removing duplicates {count_rows_after}')"
   ]
  },
  {
   "cell_type": "markdown",
   "id": "a5fb8439",
   "metadata": {},
   "source": [
    "## Exploratory Data Analysis (EDA)\n"
   ]
  },
  {
   "cell_type": "markdown",
   "metadata": {},
   "source": [
    "### Univariate analysis"
   ]
  },
  {
   "cell_type": "code",
   "execution_count": null,
   "metadata": {},
   "outputs": [],
   "source": [
    "wine_df.hist(figsize=(15, 15), bins=50)"
   ]
  },
  {
   "cell_type": "code",
   "execution_count": null,
   "metadata": {},
   "outputs": [],
   "source": [
    "# violin plots using seaborn for the range of values for each feature in seperate plots\n",
    "fig, axes = plt.subplots(7, 2, figsize=(15, 15))\n",
    "\n",
    "axes = axes.flatten()\n",
    "for i, col in enumerate(wine_df.columns):\n",
    "    sns.violinplot(x=col, data=wine_df, ax=axes[i])\n",
    "\n",
    "plt.tight_layout()\n",
    "plt.show()\n"
   ]
  },
  {
   "cell_type": "markdown",
   "metadata": {},
   "source": [
    "### Bivariate analysis"
   ]
  },
  {
   "cell_type": "code",
   "execution_count": null,
   "metadata": {},
   "outputs": [],
   "source": [
    "fig, axs = plt.subplots(4, 3, figsize=(15, 15))\n",
    "\n",
    "feature_ranges = {}\n",
    "for i, col in enumerate(wine_df.columns):\n",
    "    \n",
    "    if col != 'quality':\n",
    "        for qualities in wine_df['quality'].unique():\n",
    "            feature_ranges[col + '_' + str(qualities)] = [wine_df[wine_df['quality'] == qualities][col].min(), wine_df[wine_df['quality'] == qualities][col].max()]\n",
    "            \n",
    "        sns.barplot(x='quality', y=col, data=wine_df, ax=axs[i//3, i%3])\n",
    "# remove the empty plot\n",
    "print(feature_ranges)\n",
    "#fig.delaxes(axs[3, 2])\n",
    "plt.tight_layout()\n",
    "plt.show()"
   ]
  },
  {
   "cell_type": "markdown",
   "metadata": {},
   "source": [
    "### Multivariate analysis"
   ]
  },
  {
   "cell_type": "code",
   "execution_count": null,
   "metadata": {},
   "outputs": [],
   "source": [
    "correlation = wine_df.corr()\n",
    "sns.heatmap(correlation, annot=True, cmap='BrBG').figure.set_size_inches(14, 12)\n"
   ]
  },
  {
   "cell_type": "markdown",
   "metadata": {},
   "source": [
    "From the correlation matrix we chose Alchohol, density, chlorides and volatile acidity because they had a high correaltion with the quality. Type was dropped because it has a high correlation with the other features so it does not bring any new information. Free sulfur dioxide and total sulfur dioxide are very highly correlated with eachother so the one with lower correlation to quality(free sulfur dioxide) was dropped,  while we kept total sulfur dioxide. pH and fixed acidity and residual sugar was dropped for similar reasons of having low predictive power. Citric acid was kept because it does not have a high correlation to most of the other features being used so it is possible that it brings some new information. "
   ]
  },
  {
   "cell_type": "code",
   "execution_count": null,
   "metadata": {},
   "outputs": [],
   "source": [
    "g = sns.pairplot(wine_df, hue='quality', markers='+')\n",
    "plt.show()"
   ]
  },
  {
   "cell_type": "markdown",
   "metadata": {},
   "source": [
    "### Feature selection"
   ]
  },
  {
   "cell_type": "code",
   "execution_count": null,
   "metadata": {},
   "outputs": [],
   "source": [
    "# List of columns to be dropped\n",
    "columns_to_drop = ['type','fixed_acidity','residual_sugar','free_sulfur_dioxide','pH','sulphates']\n",
    "#columns_to_drop = ['fixed_acidity', 'citric_acid', 'residual_sugar', 'total_sulfur_dioxide','free_sulfur_dioxide','pH','sulphates']\n",
    "\n",
    "wine_df1=wine_df.drop(columns=columns_to_drop)\n",
    "\n",
    "wine_df1"
   ]
  },
  {
   "cell_type": "code",
   "execution_count": null,
   "metadata": {},
   "outputs": [],
   "source": [
    "# remove duplicates\n",
    "count_rows_before = wine_df1.shape[0]\n",
    "wine_df1 = wine_df1.drop_duplicates()\n",
    "count_rows_after = wine_df1.shape[0]\n",
    "\n",
    "print(f'Number of rows before removing duplicates {count_rows_before}')\n",
    "print(f'Number of rows after removing duplicates {count_rows_after}')"
   ]
  },
  {
   "cell_type": "code",
   "execution_count": null,
   "metadata": {},
   "outputs": [],
   "source": [
    "\n",
    "\n",
    "target_column = 'quality'\n",
    "features = wine_df1.drop(columns=[target_column])\n",
    "target = wine_df1[target_column]\n",
    "\n",
    "X_train, X_test, y_train, y_test = train_test_split(features, target, test_size=0.2, random_state=1)\n",
    "\n",
    "# Initialize the Random Forest classifier\n",
    "rf_classifier = RandomForestClassifier(n_estimators=100, max_depth=20,random_state=1)  # You can adjust parameters here\n",
    "\n",
    "# Train the classifier\n",
    "rf_classifier.fit(X_train, y_train)\n",
    "\n",
    "# Predict labels for the test set\n",
    "predicted_labels = rf_classifier.predict(X_test)\n",
    "\n",
    "# Calculate accuracy\n",
    "accuracy = accuracy_score(y_test, predicted_labels)\n",
    "print(f\"Accuracy: {accuracy:.2f}\")\n",
    "\n",
    "# Print classification report\n",
    "report = classification_report(y_test, predicted_labels)\n",
    "print(\"Classification Report:\")\n",
    "print(report)"
   ]
  },
  {
   "cell_type": "markdown",
   "id": "6e6adb93",
   "metadata": {},
   "source": [
    "### Insert our Wine DataFrame into a FeatureGroup\n"
   ]
  },
  {
   "cell_type": "code",
   "execution_count": null,
   "id": "6df9d07f",
   "metadata": {},
   "outputs": [],
   "source": [
    "wine_fg = fs.get_or_create_feature_group(\n",
    "     name=\"wine_final\",\n",
    "     version=1,\n",
    "     primary_key=[\"volatile_acidity\",\"citric_acid\",\"chlorides\",'total_sulfur_dioxide',\"density\",\"alcohol\"], \n",
    "     description=\"wine dataset\")\n",
    "wine_fg.insert(wine_df1)"
   ]
  },
  {
   "cell_type": "markdown",
   "id": "e0520ac0",
   "metadata": {},
   "source": [
    "### Data Validation\n",
    "If you want, you can enable data validation for your feature group.\n",
    "The code below will prevent iris flower data from being written your your feature group if you write values outside the expected ranges."
   ]
  },
  {
   "cell_type": "code",
   "execution_count": null,
   "id": "026c8802",
   "metadata": {},
   "outputs": [],
   "source": [
    "# from great_expectations.core import ExpectationSuite, ExpectationConfiguration\n",
    "\n",
    "# def expect(suite, column, min_val, max_val):\n",
    "#     suite.add_expectation(\n",
    "#     ExpectationConfiguration(\n",
    "#         expectation_type=\"expect_column_values_to_be_between\",\n",
    "#         kwargs={\n",
    "#             \"column\":column, \n",
    "#             \"min_value\":min_val,\n",
    "#             \"max_value\":max_val,\n",
    "#         }\n",
    "#     )\n",
    "# )"
   ]
  },
  {
   "cell_type": "code",
   "execution_count": null,
   "id": "9e345afd",
   "metadata": {},
   "outputs": [],
   "source": [
    "# suite = ExpectationSuite(expectation_suite_name=\"iris_dimensions\")\n",
    "\n",
    "# expect(suite, \"sepal_length\", 4.5, 8.0)\n",
    "# expect(suite, \"sepal_width\", 2.1, 4.5)\n",
    "# expect(suite, \"petal_length\", 1.2, 7)\n",
    "# expect(suite, \"petal_width\", 0.2, 2.5)\n",
    "# iris_fg.save_expectation_suite(expectation_suite=suite, validation_ingestion_policy=\"STRICT\")    "
   ]
  }
 ],
 "metadata": {
  "kernelspec": {
   "display_name": "Python 3 (ipykernel)",
   "language": "python",
   "name": "python3"
  },
  "language_info": {
   "codemirror_mode": {
    "name": "ipython",
    "version": 3
   },
   "file_extension": ".py",
   "mimetype": "text/x-python",
   "name": "python",
   "nbconvert_exporter": "python",
   "pygments_lexer": "ipython3",
   "version": "3.10.12"
  }
 },
 "nbformat": 4,
 "nbformat_minor": 5
}
